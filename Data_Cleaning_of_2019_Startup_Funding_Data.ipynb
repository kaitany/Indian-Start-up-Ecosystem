{
 "cells": [
  {
   "attachments": {},
   "cell_type": "markdown",
   "metadata": {},
   "source": [
    "                                CLEANING OF 2019 STARTUP FUNDING DATASET"
   ]
  },
  {
   "cell_type": "code",
   "execution_count": 1,
   "metadata": {},
   "outputs": [],
   "source": [
    "#We need to import necessary libraries to aid in Data Analysis and Visualization.\n",
    "import numpy as np\n",
    "import pandas as pd\n",
    "import matplotlib.pyplot as plt \n",
    "import seaborn as sns\n",
    "import fuzzywuzzy"
   ]
  },
  {
   "cell_type": "code",
   "execution_count": 2,
   "metadata": {},
   "outputs": [],
   "source": [
    "#loading of the csv dataset using the read_csv method.\n",
    "data = pd.read_csv(\"startup_funding2019 (clean_data).csv\", encoding='latin-1')\n"
   ]
  },
  {
   "attachments": {},
   "cell_type": "markdown",
   "metadata": {},
   "source": [
    "                                           DATA EXPLORATION"
   ]
  },
  {
   "cell_type": "code",
   "execution_count": 3,
   "metadata": {},
   "outputs": [
    {
     "data": {
      "text/html": [
       "<div>\n",
       "<style scoped>\n",
       "    .dataframe tbody tr th:only-of-type {\n",
       "        vertical-align: middle;\n",
       "    }\n",
       "\n",
       "    .dataframe tbody tr th {\n",
       "        vertical-align: top;\n",
       "    }\n",
       "\n",
       "    .dataframe thead th {\n",
       "        text-align: right;\n",
       "    }\n",
       "</style>\n",
       "<table border=\"1\" class=\"dataframe\">\n",
       "  <thead>\n",
       "    <tr style=\"text-align: right;\">\n",
       "      <th></th>\n",
       "      <th>Company_Brand</th>\n",
       "      <th>Founded</th>\n",
       "      <th>HeadQuarter</th>\n",
       "      <th>Sector</th>\n",
       "      <th>What_it_does</th>\n",
       "      <th>Founders</th>\n",
       "      <th>Investor</th>\n",
       "      <th>Amount</th>\n",
       "      <th>Stage</th>\n",
       "    </tr>\n",
       "  </thead>\n",
       "  <tbody>\n",
       "    <tr>\n",
       "      <th>0</th>\n",
       "      <td>Bombay Shaving</td>\n",
       "      <td>NaN</td>\n",
       "      <td>NaN</td>\n",
       "      <td>Ecommerce</td>\n",
       "      <td>Provides a range of male grooming products</td>\n",
       "      <td>Shantanu Deshpande</td>\n",
       "      <td>Sixth Sense Ventures</td>\n",
       "      <td>$6,300,000</td>\n",
       "      <td>NaN</td>\n",
       "    </tr>\n",
       "    <tr>\n",
       "      <th>1</th>\n",
       "      <td>Ruangguru</td>\n",
       "      <td>2014.0</td>\n",
       "      <td>Mumbai</td>\n",
       "      <td>Edtech</td>\n",
       "      <td>A learning platform that provides topic-based ...</td>\n",
       "      <td>Adamas Belva Syah Devara, Iman Usman.</td>\n",
       "      <td>General Atlantic</td>\n",
       "      <td>$150,000,000</td>\n",
       "      <td>Series C</td>\n",
       "    </tr>\n",
       "    <tr>\n",
       "      <th>2</th>\n",
       "      <td>Eduisfun</td>\n",
       "      <td>NaN</td>\n",
       "      <td>Mumbai</td>\n",
       "      <td>Edtech</td>\n",
       "      <td>It aims to make learning fun via games.</td>\n",
       "      <td>Jatin Solanki</td>\n",
       "      <td>Deepak Parekh, Amitabh Bachchan, Piyush Pandey</td>\n",
       "      <td>$28,000,000</td>\n",
       "      <td>Fresh funding</td>\n",
       "    </tr>\n",
       "    <tr>\n",
       "      <th>3</th>\n",
       "      <td>HomeLane</td>\n",
       "      <td>2014.0</td>\n",
       "      <td>Chennai</td>\n",
       "      <td>Interior design</td>\n",
       "      <td>Provides interior designing solutions</td>\n",
       "      <td>Srikanth Iyer, Rama Harinath</td>\n",
       "      <td>Evolvence India Fund (EIF), Pidilite Group, FJ...</td>\n",
       "      <td>$30,000,000</td>\n",
       "      <td>Series D</td>\n",
       "    </tr>\n",
       "    <tr>\n",
       "      <th>4</th>\n",
       "      <td>Nu Genes</td>\n",
       "      <td>2004.0</td>\n",
       "      <td>Telangana</td>\n",
       "      <td>AgriTech</td>\n",
       "      <td>It is a seed company engaged in production, pr...</td>\n",
       "      <td>Narayana Reddy Punyala</td>\n",
       "      <td>Innovation in Food and Agriculture (IFA)</td>\n",
       "      <td>$6,000,000</td>\n",
       "      <td>NaN</td>\n",
       "    </tr>\n",
       "    <tr>\n",
       "      <th>5</th>\n",
       "      <td>FlytBase</td>\n",
       "      <td>NaN</td>\n",
       "      <td>Pune</td>\n",
       "      <td>Technology</td>\n",
       "      <td>A drone automation platform</td>\n",
       "      <td>Nitin Gupta</td>\n",
       "      <td>Undisclosed</td>\n",
       "      <td>Undisclosed</td>\n",
       "      <td>NaN</td>\n",
       "    </tr>\n",
       "    <tr>\n",
       "      <th>6</th>\n",
       "      <td>Finly</td>\n",
       "      <td>NaN</td>\n",
       "      <td>Bangalore</td>\n",
       "      <td>SaaS</td>\n",
       "      <td>It builds software products that makes work si...</td>\n",
       "      <td>Vivek AG, Veekshith C Rai</td>\n",
       "      <td>Social Capital, AngelList India, Gemba Capital...</td>\n",
       "      <td>Undisclosed</td>\n",
       "      <td>NaN</td>\n",
       "    </tr>\n",
       "    <tr>\n",
       "      <th>7</th>\n",
       "      <td>Kratikal</td>\n",
       "      <td>2013.0</td>\n",
       "      <td>Noida</td>\n",
       "      <td>Technology</td>\n",
       "      <td>It is a product-based cybersecurity solutions ...</td>\n",
       "      <td>Pavan Kushwaha, Paratosh Bansal, Dip Jung Thapa</td>\n",
       "      <td>Gilda VC, Art Venture, Rajeev Chitrabhanu.</td>\n",
       "      <td>$1,000,000</td>\n",
       "      <td>Pre series A</td>\n",
       "    </tr>\n",
       "    <tr>\n",
       "      <th>8</th>\n",
       "      <td>Quantiphi</td>\n",
       "      <td>NaN</td>\n",
       "      <td>NaN</td>\n",
       "      <td>AI &amp; Tech</td>\n",
       "      <td>It is an AI and big data services company prov...</td>\n",
       "      <td>Renuka Ramnath</td>\n",
       "      <td>Multiples Alternate Asset Management</td>\n",
       "      <td>$20,000,000</td>\n",
       "      <td>Series A</td>\n",
       "    </tr>\n",
       "    <tr>\n",
       "      <th>9</th>\n",
       "      <td>Lenskart</td>\n",
       "      <td>2010.0</td>\n",
       "      <td>Delhi</td>\n",
       "      <td>E-commerce</td>\n",
       "      <td>It is a eyewear company</td>\n",
       "      <td>Peyush Bansal, Amit Chaudhary, Sumeet Kapahi</td>\n",
       "      <td>SoftBank</td>\n",
       "      <td>$275,000,000</td>\n",
       "      <td>Series G</td>\n",
       "    </tr>\n",
       "  </tbody>\n",
       "</table>\n",
       "</div>"
      ],
      "text/plain": [
       "    Company_Brand  Founded HeadQuarter           Sector  \\\n",
       "0  Bombay Shaving      NaN         NaN        Ecommerce   \n",
       "1       Ruangguru   2014.0      Mumbai           Edtech   \n",
       "2        Eduisfun      NaN      Mumbai           Edtech   \n",
       "3        HomeLane   2014.0     Chennai  Interior design   \n",
       "4        Nu Genes   2004.0   Telangana         AgriTech   \n",
       "5        FlytBase      NaN        Pune       Technology   \n",
       "6           Finly      NaN   Bangalore             SaaS   \n",
       "7        Kratikal   2013.0       Noida       Technology   \n",
       "8       Quantiphi      NaN         NaN        AI & Tech   \n",
       "9        Lenskart   2010.0       Delhi       E-commerce   \n",
       "\n",
       "                                        What_it_does  \\\n",
       "0         Provides a range of male grooming products   \n",
       "1  A learning platform that provides topic-based ...   \n",
       "2            It aims to make learning fun via games.   \n",
       "3              Provides interior designing solutions   \n",
       "4  It is a seed company engaged in production, pr...   \n",
       "5                        A drone automation platform   \n",
       "6  It builds software products that makes work si...   \n",
       "7  It is a product-based cybersecurity solutions ...   \n",
       "8  It is an AI and big data services company prov...   \n",
       "9                            It is a eyewear company   \n",
       "\n",
       "                                          Founders  \\\n",
       "0                               Shantanu Deshpande   \n",
       "1            Adamas Belva Syah Devara, Iman Usman.   \n",
       "2                                    Jatin Solanki   \n",
       "3                     Srikanth Iyer, Rama Harinath   \n",
       "4                           Narayana Reddy Punyala   \n",
       "5                                      Nitin Gupta   \n",
       "6                        Vivek AG, Veekshith C Rai   \n",
       "7  Pavan Kushwaha, Paratosh Bansal, Dip Jung Thapa   \n",
       "8                                   Renuka Ramnath   \n",
       "9     Peyush Bansal, Amit Chaudhary, Sumeet Kapahi   \n",
       "\n",
       "                                            Investor         Amount  \\\n",
       "0                               Sixth Sense Ventures    $6,300,000    \n",
       "1                                   General Atlantic  $150,000,000    \n",
       "2     Deepak Parekh, Amitabh Bachchan, Piyush Pandey   $28,000,000    \n",
       "3  Evolvence India Fund (EIF), Pidilite Group, FJ...   $30,000,000    \n",
       "4           Innovation in Food and Agriculture (IFA)    $6,000,000    \n",
       "5                                        Undisclosed    Undisclosed   \n",
       "6  Social Capital, AngelList India, Gemba Capital...    Undisclosed   \n",
       "7         Gilda VC, Art Venture, Rajeev Chitrabhanu.    $1,000,000    \n",
       "8               Multiples Alternate Asset Management   $20,000,000    \n",
       "9                                           SoftBank  $275,000,000    \n",
       "\n",
       "           Stage  \n",
       "0            NaN  \n",
       "1       Series C  \n",
       "2  Fresh funding  \n",
       "3       Series D  \n",
       "4            NaN  \n",
       "5            NaN  \n",
       "6            NaN  \n",
       "7   Pre series A  \n",
       "8       Series A  \n",
       "9       Series G  "
      ]
     },
     "execution_count": 3,
     "metadata": {},
     "output_type": "execute_result"
    }
   ],
   "source": [
    "\n",
    "#Preview of the first five data using head() method.\n",
    "\n",
    "df = data.head(10)\n",
    "\n",
    "df"
   ]
  },
  {
   "cell_type": "code",
   "execution_count": 4,
   "metadata": {},
   "outputs": [
    {
     "name": "stdout",
     "output_type": "stream",
     "text": [
      "<class 'pandas.core.frame.DataFrame'>\n",
      "RangeIndex: 89 entries, 0 to 88\n",
      "Data columns (total 9 columns):\n",
      " #   Column         Non-Null Count  Dtype  \n",
      "---  ------         --------------  -----  \n",
      " 0   Company_Brand  89 non-null     object \n",
      " 1   Founded        60 non-null     float64\n",
      " 2   HeadQuarter    70 non-null     object \n",
      " 3   Sector         84 non-null     object \n",
      " 4   What_it_does   89 non-null     object \n",
      " 5   Founders       86 non-null     object \n",
      " 6   Investor       89 non-null     object \n",
      " 7   Amount         89 non-null     object \n",
      " 8   Stage          43 non-null     object \n",
      "dtypes: float64(1), object(8)\n",
      "memory usage: 6.4+ KB\n"
     ]
    }
   ],
   "source": [
    "#Preview of dataset summary information using info method.\n",
    "\n",
    "data.info()"
   ]
  },
  {
   "cell_type": "code",
   "execution_count": 5,
   "metadata": {},
   "outputs": [
    {
     "name": "stdout",
     "output_type": "stream",
     "text": [
      "Number of rows in 2019 dataset: 89\n",
      "Number of columns in 2019 dataset: 9\n"
     ]
    }
   ],
   "source": [
    "#View of number of rows and columns in 2019 dataset\n",
    "num_f_colmns = data.shape[(1)]\n",
    "num_f_rows = data.shape[(0)]\n",
    "\n",
    "print('Number of rows in 2019 dataset:',num_f_rows)\n",
    "print('Number of columns in 2019 dataset:',num_f_colmns)"
   ]
  },
  {
   "cell_type": "code",
   "execution_count": 6,
   "metadata": {},
   "outputs": [
    {
     "data": {
      "text/html": [
       "<div>\n",
       "<style scoped>\n",
       "    .dataframe tbody tr th:only-of-type {\n",
       "        vertical-align: middle;\n",
       "    }\n",
       "\n",
       "    .dataframe tbody tr th {\n",
       "        vertical-align: top;\n",
       "    }\n",
       "\n",
       "    .dataframe thead th {\n",
       "        text-align: right;\n",
       "    }\n",
       "</style>\n",
       "<table border=\"1\" class=\"dataframe\">\n",
       "  <thead>\n",
       "    <tr style=\"text-align: right;\">\n",
       "      <th></th>\n",
       "      <th>Founded</th>\n",
       "    </tr>\n",
       "  </thead>\n",
       "  <tbody>\n",
       "    <tr>\n",
       "      <th>count</th>\n",
       "      <td>60.000000</td>\n",
       "    </tr>\n",
       "    <tr>\n",
       "      <th>mean</th>\n",
       "      <td>2014.533333</td>\n",
       "    </tr>\n",
       "    <tr>\n",
       "      <th>std</th>\n",
       "      <td>2.937003</td>\n",
       "    </tr>\n",
       "    <tr>\n",
       "      <th>min</th>\n",
       "      <td>2004.000000</td>\n",
       "    </tr>\n",
       "    <tr>\n",
       "      <th>25%</th>\n",
       "      <td>2013.000000</td>\n",
       "    </tr>\n",
       "    <tr>\n",
       "      <th>50%</th>\n",
       "      <td>2015.000000</td>\n",
       "    </tr>\n",
       "    <tr>\n",
       "      <th>75%</th>\n",
       "      <td>2016.250000</td>\n",
       "    </tr>\n",
       "    <tr>\n",
       "      <th>max</th>\n",
       "      <td>2019.000000</td>\n",
       "    </tr>\n",
       "  </tbody>\n",
       "</table>\n",
       "</div>"
      ],
      "text/plain": [
       "           Founded\n",
       "count    60.000000\n",
       "mean   2014.533333\n",
       "std       2.937003\n",
       "min    2004.000000\n",
       "25%    2013.000000\n",
       "50%    2015.000000\n",
       "75%    2016.250000\n",
       "max    2019.000000"
      ]
     },
     "execution_count": 6,
     "metadata": {},
     "output_type": "execute_result"
    }
   ],
   "source": [
    "# Preview of description summary of numerical columns using describe method\n",
    "\n",
    "data.describe()"
   ]
  },
  {
   "cell_type": "code",
   "execution_count": 7,
   "metadata": {},
   "outputs": [
    {
     "data": {
      "text/html": [
       "<div>\n",
       "<style scoped>\n",
       "    .dataframe tbody tr th:only-of-type {\n",
       "        vertical-align: middle;\n",
       "    }\n",
       "\n",
       "    .dataframe tbody tr th {\n",
       "        vertical-align: top;\n",
       "    }\n",
       "\n",
       "    .dataframe thead th {\n",
       "        text-align: right;\n",
       "    }\n",
       "</style>\n",
       "<table border=\"1\" class=\"dataframe\">\n",
       "  <thead>\n",
       "    <tr style=\"text-align: right;\">\n",
       "      <th></th>\n",
       "      <th>Company_Brand</th>\n",
       "      <th>HeadQuarter</th>\n",
       "      <th>Sector</th>\n",
       "      <th>What_it_does</th>\n",
       "      <th>Founders</th>\n",
       "      <th>Investor</th>\n",
       "      <th>Amount</th>\n",
       "      <th>Stage</th>\n",
       "    </tr>\n",
       "  </thead>\n",
       "  <tbody>\n",
       "    <tr>\n",
       "      <th>count</th>\n",
       "      <td>89</td>\n",
       "      <td>70</td>\n",
       "      <td>84</td>\n",
       "      <td>89</td>\n",
       "      <td>86</td>\n",
       "      <td>89</td>\n",
       "      <td>89</td>\n",
       "      <td>43</td>\n",
       "    </tr>\n",
       "    <tr>\n",
       "      <th>unique</th>\n",
       "      <td>87</td>\n",
       "      <td>17</td>\n",
       "      <td>52</td>\n",
       "      <td>88</td>\n",
       "      <td>85</td>\n",
       "      <td>86</td>\n",
       "      <td>50</td>\n",
       "      <td>15</td>\n",
       "    </tr>\n",
       "    <tr>\n",
       "      <th>top</th>\n",
       "      <td>Kratikal</td>\n",
       "      <td>Bangalore</td>\n",
       "      <td>Edtech</td>\n",
       "      <td>Online meat shop</td>\n",
       "      <td>Vivek Gupta, Abhay Hanjura</td>\n",
       "      <td>Undisclosed</td>\n",
       "      <td>Undisclosed</td>\n",
       "      <td>Series A</td>\n",
       "    </tr>\n",
       "    <tr>\n",
       "      <th>freq</th>\n",
       "      <td>2</td>\n",
       "      <td>21</td>\n",
       "      <td>7</td>\n",
       "      <td>2</td>\n",
       "      <td>2</td>\n",
       "      <td>3</td>\n",
       "      <td>12</td>\n",
       "      <td>10</td>\n",
       "    </tr>\n",
       "  </tbody>\n",
       "</table>\n",
       "</div>"
      ],
      "text/plain": [
       "       Company_Brand HeadQuarter  Sector      What_it_does  \\\n",
       "count             89          70      84                89   \n",
       "unique            87          17      52                88   \n",
       "top         Kratikal   Bangalore  Edtech  Online meat shop   \n",
       "freq               2          21       7                 2   \n",
       "\n",
       "                          Founders     Investor       Amount     Stage  \n",
       "count                           86           89           89        43  \n",
       "unique                          85           86           50        15  \n",
       "top     Vivek Gupta, Abhay Hanjura  Undisclosed  Undisclosed  Series A  \n",
       "freq                             2            3           12        10  "
      ]
     },
     "execution_count": 7,
     "metadata": {},
     "output_type": "execute_result"
    }
   ],
   "source": [
    "# Preview of description summary of categorical columns using describe method\n",
    "data.describe(include=object)"
   ]
  },
  {
   "cell_type": "code",
   "execution_count": 8,
   "metadata": {},
   "outputs": [
    {
     "name": "stdout",
     "output_type": "stream",
     "text": [
      "Count of duplicate values: 0\n"
     ]
    }
   ],
   "source": [
    "#Let us check for duplicates in our datas\n",
    "duplicate_vals = data.duplicated().sum()\n",
    "\n",
    "#The 2019 dataset has no duplicate values\n",
    "\n",
    "print(\"Count of duplicate values:\",duplicate_vals)"
   ]
  },
  {
   "cell_type": "code",
   "execution_count": 9,
   "metadata": {},
   "outputs": [
    {
     "data": {
      "text/plain": [
       "Company_Brand     0\n",
       "Founded          29\n",
       "HeadQuarter      19\n",
       "Sector            5\n",
       "What_it_does      0\n",
       "Founders          3\n",
       "Investor          0\n",
       "Amount            0\n",
       "Stage            46\n",
       "dtype: int64"
      ]
     },
     "execution_count": 9,
     "metadata": {},
     "output_type": "execute_result"
    }
   ],
   "source": [
    "#Check of number of missing values in our dataset.(i.e Total NAN values per column)\n",
    "missin_vals = data.isnull().sum()\n",
    "\n",
    "#The 2019 dataset contains missing values\n",
    "\n",
    "missin_vals"
   ]
  },
  {
   "cell_type": "code",
   "execution_count": 10,
   "metadata": {},
   "outputs": [
    {
     "data": {
      "text/plain": [
       "Company_Brand     0.000000\n",
       "Founded          32.584270\n",
       "HeadQuarter      21.348315\n",
       "Sector            5.617978\n",
       "What_it_does      0.000000\n",
       "Founders          3.370787\n",
       "Investor          0.000000\n",
       "Amount            0.000000\n",
       "Stage            51.685393\n",
       "dtype: float64"
      ]
     },
     "execution_count": 10,
     "metadata": {},
     "output_type": "execute_result"
    }
   ],
   "source": [
    "#conversion of missing value as percentage to enable comparison and inference\n",
    "#we get total percentage of missing data in each column\n",
    "#gives inference of whether to delete data or not\n",
    "\n",
    "missing_percent = (data.isnull().sum()/len(data)) * 100\n",
    "\n",
    "missing_percent"
   ]
  },
  {
   "cell_type": "code",
   "execution_count": 11,
   "metadata": {},
   "outputs": [],
   "source": [
    "#Boolean filtering of percentage missing data greater than 0 in columns\n",
    "#only columns selected have missing percentage > 0\n",
    "\n",
    "def missing_percent(table):\n",
    "    missing_percent = (data.isnull().sum()/len(data)) * 100\n",
    "    missing_percent = missing_percent[missing_percent > 0].sort_values(ascending=False)\n",
    "    return missing_percent"
   ]
  },
  {
   "cell_type": "code",
   "execution_count": 12,
   "metadata": {},
   "outputs": [
    {
     "data": {
      "text/plain": [
       "Stage          51.685393\n",
       "Founded        32.584270\n",
       "HeadQuarter    21.348315\n",
       "Sector          5.617978\n",
       "Founders        3.370787\n",
       "dtype: float64"
      ]
     },
     "execution_count": 12,
     "metadata": {},
     "output_type": "execute_result"
    }
   ],
   "source": [
    "# per_nan = percentage nan\n",
    "\n",
    "per_nan = missing_percent(data)\n",
    "\n",
    "per_nan"
   ]
  },
  {
   "cell_type": "code",
   "execution_count": 13,
   "metadata": {},
   "outputs": [
    {
     "data": {
      "image/png": "[encoded data removed]",
      "text/plain": [
       "<Figure size 900x600 with 1 Axes>"
      ]
     },
     "metadata": {},
     "output_type": "display_data"
    }
   ],
   "source": [
    "#Let us visualize to infer missing data for comprehensive understanding\n",
    "#NBper_nan is a series data that is indexed(with only one column)\n",
    "#NBseaborn and matplotlib are compatible, we'll us matplotlib's 'plt.xticks()' to do x-axis rotation \n",
    "\n",
    "plt.figure(figsize=(9, 6))\n",
    "sns.barplot(x=per_nan.index, y=per_nan)\n",
    "plt.xticks(rotation = 45)\n",
    "plt.title(\"Percentage Missing Values\");\n",
    "#plt.ylim(3, 21)\n",
    "#to get columns with missing data btwn 3 to 21 percentage, we use function 'plt.ylim()'"
   ]
  },
  {
   "cell_type": "code",
   "execution_count": 14,
   "metadata": {},
   "outputs": [
    {
     "data": {
      "text/plain": [
       "Series A         10\n",
       "Pre series A      8\n",
       "Series B          8\n",
       "Series D          4\n",
       "Series C          3\n",
       "Fresh funding     1\n",
       "Series G          1\n",
       "Post series A     1\n",
       "Seed funding      1\n",
       "Seed fund         1\n",
       "Series E          1\n",
       "Series F          1\n",
       "Series B+         1\n",
       "Seed round        1\n",
       "Pre-series A      1\n",
       "Name: Stage, dtype: int64"
      ]
     },
     "execution_count": 14,
     "metadata": {},
     "output_type": "execute_result"
    }
   ],
   "source": [
    "#A look at categorical column 'stage' value distribution.\n",
    "data[\"Stage\"].value_counts()\n",
    "\n",
    "\n",
    "#Column has inconsistencies"
   ]
  },
  {
   "attachments": {},
   "cell_type": "markdown",
   "metadata": {},
   "source": [
    "                                                DATA CLEANING"
   ]
  },
  {
   "cell_type": "code",
   "execution_count": 15,
   "metadata": {},
   "outputs": [
    {
     "data": {
      "text/plain": [
       "0      6300000 \n",
       "1    150000000 \n",
       "2     28000000 \n",
       "3     30000000 \n",
       "4      6000000 \n",
       "Name: Amount, dtype: object"
      ]
     },
     "execution_count": 15,
     "metadata": {},
     "output_type": "execute_result"
    }
   ],
   "source": [
    "#Handing inconsistencies in 'Amount' column\n",
    "# Remove dollar sign, and convert the \"amount\" column from integer to float\n",
    "data['Amount'] = data['Amount'].str.replace('[$,]', '', regex=True) \n",
    "\n",
    "#Replace \"undisclosed\" with NaN\n",
    "data['Amount'] = data['Amount'].replace('Undisclosed', np.nan)\n",
    "\n",
    "#Preview of modified 'Amount' column\n",
    "data['Amount'].head()"
   ]
  },
  {
   "cell_type": "code",
   "execution_count": 16,
   "metadata": {},
   "outputs": [
    {
     "name": "stdout",
     "output_type": "stream",
     "text": [
      "Count of missing values in Amount column: 12\n"
     ]
    }
   ],
   "source": [
    "# Let us find out count of missing values in 'Amount' column\n",
    "missin_amount_vals = data[\"Amount\"].isna().sum()\n",
    "\n",
    "print(\"Count of missing values in Amount column:\",missin_amount_vals)"
   ]
  },
  {
   "cell_type": "code",
   "execution_count": 17,
   "metadata": {},
   "outputs": [
    {
     "name": "stdout",
     "output_type": "stream",
     "text": [
      "Count of non-NA elements in Amount column: 77\n"
     ]
    }
   ],
   "source": [
    "#let us confirm count of Non-NA elements in column the 'amount'\n",
    "#DataFrame.count() method returns count of non-Non-NA/null entries\n",
    "\n",
    "Non_NA = data[\"Amount\"].count()\n",
    "\n",
    "print(\"Count of non-NA elements in Amount column:\",Non_NA)"
   ]
  },
  {
   "cell_type": "code",
   "execution_count": 18,
   "metadata": {},
   "outputs": [
    {
     "data": {
      "text/plain": [
       "6000000.0"
      ]
     },
     "execution_count": 18,
     "metadata": {},
     "output_type": "execute_result"
    }
   ],
   "source": [
    "#Convert the column to numeric, coercing non-numeric values to NaN:\n",
    "#pd.to_numeric() converts values to float\n",
    "\n",
    "data[\"Amount\"] = pd.to_numeric(data[\"Amount\"], errors='coerce')\n",
    "\n",
    "#Calculate the median of the column, ignoring the NaN values:\n",
    "median_value = data[\"Amount\"].median(skipna=True)\n",
    "\n",
    "median_value"
   ]
  },
  {
   "cell_type": "code",
   "execution_count": 19,
   "metadata": {},
   "outputs": [],
   "source": [
    "#Replace the NaN values with the calculated median:\n",
    "data[\"Amount\"].fillna(median_value, inplace=True)"
   ]
  },
  {
   "cell_type": "code",
   "execution_count": 20,
   "metadata": {},
   "outputs": [
    {
     "data": {
      "text/plain": [
       "False"
      ]
     },
     "execution_count": 20,
     "metadata": {},
     "output_type": "execute_result"
    }
   ],
   "source": [
    "#confirm whether there are any NAN values (missing_values)\n",
    "data[\"Amount\"].isna().values.any()"
   ]
  },
  {
   "cell_type": "code",
   "execution_count": 21,
   "metadata": {},
   "outputs": [
    {
     "data": {
      "text/plain": [
       "array([  nan, 2014., 2004., 2013., 2010., 2018., 2019., 2017., 2011.,\n",
       "       2015., 2016., 2012., 2008.])"
      ]
     },
     "execution_count": 21,
     "metadata": {},
     "output_type": "execute_result"
    }
   ],
   "source": [
    "#let us clean column named 'founded' \n",
    "#we will fill in missing values with the median value\n",
    "elements = data[\"Founded\"].unique()\n",
    "elements"
   ]
  },
  {
   "cell_type": "code",
   "execution_count": 22,
   "metadata": {},
   "outputs": [
    {
     "name": "stdout",
     "output_type": "stream",
     "text": [
      "Count of missing values in Founded column: 29\n"
     ]
    }
   ],
   "source": [
    "#Count of missing values in column 'founded'\n",
    "\n",
    "missn_vals = data[\"Founded\"].isna().sum()\n",
    "missn_vals \n",
    "print(\"Count of missing values in Founded column:\",missn_vals)"
   ]
  },
  {
   "cell_type": "code",
   "execution_count": 23,
   "metadata": {},
   "outputs": [
    {
     "data": {
      "text/plain": [
       "2015.0"
      ]
     },
     "execution_count": 23,
     "metadata": {},
     "output_type": "execute_result"
    }
   ],
   "source": [
    "#Convert the column to numeric, coercing non-numeric values to NaN:\n",
    "#pd.to_numeric() converts values to float\n",
    "\n",
    "data[\"Founded\"] = pd.to_numeric(data[\"Founded\"], errors='coerce')\n",
    "\n",
    "#Calculate the median of the column, ignoring the NaN values:\n",
    "median_value = data[\"Founded\"].median(skipna=True)\n",
    "\n",
    "median_value"
   ]
  },
  {
   "cell_type": "code",
   "execution_count": 24,
   "metadata": {},
   "outputs": [],
   "source": [
    "#Replace the NaN values with the calculated median:\n",
    "data[\"Founded\"].fillna(median_value, inplace=True)"
   ]
  },
  {
   "cell_type": "code",
   "execution_count": 25,
   "metadata": {},
   "outputs": [
    {
     "data": {
      "text/plain": [
       "False"
      ]
     },
     "execution_count": 25,
     "metadata": {},
     "output_type": "execute_result"
    }
   ],
   "source": [
    "#Any missing values?\n",
    "#confirm whether there are any NAN values (missing_values)\n",
    "data[\"Founded\"].isna().values.any()"
   ]
  },
  {
   "cell_type": "code",
   "execution_count": 26,
   "metadata": {},
   "outputs": [
    {
     "name": "stdout",
     "output_type": "stream",
     "text": [
      "[nan 'Mumbai' 'Chennai' 'Telangana' 'Pune' 'Bangalore' 'Noida' 'Delhi']\n"
     ]
    }
   ],
   "source": [
    "#we will clean column 'Headquarter'\n",
    "#We will fill up missing values with the mode(most occuring instance)\n",
    "\n",
    "#Let us use unique() method to examine the unique values:\n",
    "print(df['HeadQuarter'].unique())\n",
    "\n"
   ]
  },
  {
   "cell_type": "code",
   "execution_count": 27,
   "metadata": {},
   "outputs": [
    {
     "data": {
      "text/plain": [
       "0          NaN\n",
       "1       Mumbai\n",
       "2       Mumbai\n",
       "3      Chennai\n",
       "4    Telangana\n",
       "Name: HeadQuarter, dtype: object"
      ]
     },
     "execution_count": 27,
     "metadata": {},
     "output_type": "execute_result"
    }
   ],
   "source": [
    "data[\"HeadQuarter\"].head(5)"
   ]
  },
  {
   "cell_type": "code",
   "execution_count": 28,
   "metadata": {},
   "outputs": [
    {
     "data": {
      "text/plain": [
       "'Bangalore'"
      ]
     },
     "execution_count": 28,
     "metadata": {},
     "output_type": "execute_result"
    }
   ],
   "source": [
    "#Calculate the mode of the column:\n",
    "#The iloc indexer is used to retrieve the first value from the mode result.\n",
    "#The mode() function returns a pandas Series object that contains the mode(s) of the column.\n",
    "\n",
    "mode_value = data[\"HeadQuarter\"].mode().iloc[0]\n",
    "\n",
    "mode_value"
   ]
  },
  {
   "cell_type": "code",
   "execution_count": 29,
   "metadata": {},
   "outputs": [],
   "source": [
    "#Replace the missing values with the mode:\n",
    "data[\"HeadQuarter\"].fillna(mode_value, inplace=True)\n"
   ]
  },
  {
   "cell_type": "code",
   "execution_count": 30,
   "metadata": {},
   "outputs": [
    {
     "data": {
      "text/plain": [
       "False"
      ]
     },
     "execution_count": 30,
     "metadata": {},
     "output_type": "execute_result"
    }
   ],
   "source": [
    "#Any missing values?\n",
    "#Let us confirm whether there are any NAN values after changes\n",
    "data[\"HeadQuarter\"].isna().values.any()"
   ]
  },
  {
   "cell_type": "code",
   "execution_count": 31,
   "metadata": {},
   "outputs": [
    {
     "name": "stdout",
     "output_type": "stream",
     "text": [
      "['Ecommerce' 'Edtech' 'Interior design' 'AgriTech' 'Technology' 'SaaS'\n",
      " 'AI & Tech' 'E-commerce' 'E-commerce & AR' 'Fintech' 'HR tech'\n",
      " 'Food tech' 'Health' 'Healthcare' 'Safety tech' 'Pharmaceutical'\n",
      " 'Insurance technology' 'AI' 'Foodtech' 'Food' 'IoT' 'E-marketplace'\n",
      " 'Robotics & AI' 'Logistics' 'Travel' 'Manufacturing' 'Food & Nutrition'\n",
      " 'Social Media' nan 'E-Sports' 'Cosmetics' 'B2B' 'Jewellery'\n",
      " 'B2B Supply Chain' 'Games' 'Food & tech' 'Accomodation' 'Automotive tech'\n",
      " 'Legal tech' 'Mutual Funds' 'Cybersecurity' 'Automobile' 'Sports'\n",
      " 'Healthtech' 'Yoga & wellness' 'Virtual Banking' 'Transportation'\n",
      " 'Transport & Rentals' 'Marketing & Customer loyalty' 'Infratech'\n",
      " 'Hospitality' 'Automobile & Technology' 'Banking']\n"
     ]
    }
   ],
   "source": [
    "#Let us clean column 'sector' \n",
    "#Column has inconsistencies and some elements needs to be renamed to have consistent format\n",
    "#Let us use unique() method to examine the unique values:\n",
    "print(data[\"Sector\"].unique())"
   ]
  },
  {
   "cell_type": "code",
   "execution_count": 32,
   "metadata": {},
   "outputs": [
    {
     "data": {
      "text/plain": [
       "Edtech                          7\n",
       "Fintech                         5\n",
       "AgriTech                        4\n",
       "Technology                      4\n",
       "SaaS                            4\n",
       "Automobile                      3\n",
       "E-commerce                      3\n",
       "Logistics                       3\n",
       "IoT                             2\n",
       "E-marketplace                   2\n",
       "AI                              2\n",
       "Automotive tech                 2\n",
       "Accomodation                    2\n",
       "Foodtech                        2\n",
       "Food                            2\n",
       "Pharmaceutical                  1\n",
       "Interior design                 1\n",
       "AI & Tech                       1\n",
       "E-commerce & AR                 1\n",
       "HR tech                         1\n",
       "Food tech                       1\n",
       "Health                          1\n",
       "Healthcare                      1\n",
       "E-Sports                        1\n",
       "B2B                             1\n",
       "Insurance technology            1\n",
       "Robotics & AI                   1\n",
       "Travel                          1\n",
       "Manufacturing                   1\n",
       "Social Media                    1\n",
       "Jewellery                       1\n",
       "Cosmetics                       1\n",
       "Safety tech                     1\n",
       "Transport & Rentals             1\n",
       "Food & Nutrition                1\n",
       "Games                           1\n",
       "Ecommerce                       1\n",
       "Cybersecurity                   1\n",
       "Mutual Funds                    1\n",
       "Food & tech                     1\n",
       "Legal tech                      1\n",
       "Sports                          1\n",
       "B2B Supply Chain                1\n",
       "Healthtech                      1\n",
       "Yoga & wellness                 1\n",
       "Virtual Banking                 1\n",
       "Transportation                  1\n",
       "Marketing & Customer loyalty    1\n",
       "Infratech                       1\n",
       "Hospitality                     1\n",
       "Automobile & Technology         1\n",
       "Banking                         1\n",
       "Name: Sector, dtype: int64"
      ]
     },
     "execution_count": 32,
     "metadata": {},
     "output_type": "execute_result"
    }
   ],
   "source": [
    "#Check of counts of each category in the column\n",
    "data[\"Sector\"].value_counts().sort_values(ascending=False)\n"
   ]
  },
  {
   "cell_type": "code",
   "execution_count": 33,
   "metadata": {},
   "outputs": [],
   "source": [
    "#Creation of a function to attain consistency in names of elements\n",
    "\n",
    "from fuzzywuzzy import fuzz\n",
    "\n",
    "def rename_similar_names(data, Sector):\n",
    "    # Create a copy of the dataframe to avoid modifying the original data\n",
    "    dff = data.copy()\n",
    "\n",
    "     # Convert values in the specified column to strings\n",
    "    dff[Sector] = dff[Sector].astype(str)\n",
    "\n",
    "    # Iterate over each unique value in the specified column\n",
    "    for value in dff[Sector].unique():\n",
    "        similar_names = [name for name in dff[Sector].unique() if fuzz.ratio(value, name) >= 80]\n",
    "        # Identify similar names with a similarity ratio of at least 80\n",
    "        \n",
    "        if len(similar_names) > 1:\n",
    "            # If there are multiple similar names, choose a consistent name for all of them\n",
    "            consistent_name = min(similar_names, key=len)  # You can change the selection criteria as per your preference\n",
    "            \n",
    "            # Replace the similar names with the consistent name\n",
    "            dff[Sector].replace(similar_names, consistent_name, inplace=True)\n",
    "\n",
    "    return dff\n"
   ]
  },
  {
   "cell_type": "code",
   "execution_count": 34,
   "metadata": {},
   "outputs": [
    {
     "name": "stdout",
     "output_type": "stream",
     "text": [
      "['Ecommerce' 'Edtech' 'Interior design' 'AgriTech' 'Technology' 'SaaS'\n",
      " 'AI & Tech' 'Fintech' 'HR tech' 'Foodtech' 'Health' 'Healthcare'\n",
      " 'Safety tech' 'Pharmaceutical' 'Insurance technology' 'AI' 'Food' 'IoT'\n",
      " 'E-marketplace' 'Robotics & AI' 'Logistics' 'Travel' 'Manufacturing'\n",
      " 'Food & Nutrition' 'Social Media' 'nan' 'Sports' 'Cosmetics' 'B2B'\n",
      " 'Jewellery' 'B2B Supply Chain' 'Games' 'Accomodation' 'Automotive tech'\n",
      " 'Legal tech' 'Mutual Funds' 'Cybersecurity' 'Automobile' 'Healthtech'\n",
      " 'Yoga & wellness' 'Virtual Banking' 'Transportation'\n",
      " 'Transport & Rentals' 'Marketing & Customer loyalty' 'Infratech'\n",
      " 'Hospitality' 'Automobile & Technology' 'Banking']\n"
     ]
    }
   ],
   "source": [
    "# Rename similar names in the 'Sector' column\n",
    "df_cleaned = rename_similar_names(data, \"Sector\")\n",
    "\n",
    "#check of unique elements after renaming our columns\n",
    "print(df_cleaned[\"Sector\"].unique())"
   ]
  },
  {
   "cell_type": "code",
   "execution_count": 35,
   "metadata": {},
   "outputs": [
    {
     "data": {
      "text/plain": [
       "Edtech                          7\n",
       "Fintech                         5\n",
       "nan                             5\n",
       "Ecommerce                       5\n",
       "AgriTech                        4\n",
       "Technology                      4\n",
       "SaaS                            4\n",
       "Foodtech                        4\n",
       "Automobile                      3\n",
       "Logistics                       3\n",
       "E-marketplace                   2\n",
       "AI                              2\n",
       "IoT                             2\n",
       "Accomodation                    2\n",
       "Sports                          2\n",
       "Automotive tech                 2\n",
       "Food                            2\n",
       "AI & Tech                       1\n",
       "HR tech                         1\n",
       "Health                          1\n",
       "Healthcare                      1\n",
       "Safety tech                     1\n",
       "Insurance technology            1\n",
       "Jewellery                       1\n",
       "Robotics & AI                   1\n",
       "Travel                          1\n",
       "Manufacturing                   1\n",
       "Food & Nutrition                1\n",
       "Cosmetics                       1\n",
       "B2B                             1\n",
       "Pharmaceutical                  1\n",
       "Interior design                 1\n",
       "Mutual Funds                    1\n",
       "B2B Supply Chain                1\n",
       "Social Media                    1\n",
       "Automobile & Technology         1\n",
       "Legal tech                      1\n",
       "Hospitality                     1\n",
       "Infratech                       1\n",
       "Marketing & Customer loyalty    1\n",
       "Cybersecurity                   1\n",
       "Transport & Rentals             1\n",
       "Transportation                  1\n",
       "Healthtech                      1\n",
       "Virtual Banking                 1\n",
       "Yoga & wellness                 1\n",
       "Games                           1\n",
       "Banking                         1\n",
       "Name: Sector, dtype: int64"
      ]
     },
     "execution_count": 35,
     "metadata": {},
     "output_type": "execute_result"
    }
   ],
   "source": [
    "# Count of unique elements in column after removing inconsistencies\n",
    "df_cleaned[\"Sector\"].value_counts().sort_values(ascending=False)"
   ]
  },
  {
   "cell_type": "code",
   "execution_count": 36,
   "metadata": {},
   "outputs": [],
   "source": [
    " #isnull() functions won't detect nan as missing values because they are treated as regular string values\n",
    "# Convert 'nan' strings to NaN values in 'Sector'\n",
    "df_cleaned[\"Sector\"] = df_cleaned['Sector'].replace('nan', np.nan)"
   ]
  },
  {
   "cell_type": "code",
   "execution_count": 37,
   "metadata": {},
   "outputs": [
    {
     "data": {
      "text/plain": [
       "5"
      ]
     },
     "execution_count": 37,
     "metadata": {},
     "output_type": "execute_result"
    }
   ],
   "source": [
    "#Count of NAN values in sector\n",
    "nan_values = df_cleaned[\"Sector\"].isna().sum()\n",
    "nan_values"
   ]
  },
  {
   "cell_type": "code",
   "execution_count": 38,
   "metadata": {},
   "outputs": [
    {
     "data": {
      "text/plain": [
       "'Edtech'"
      ]
     },
     "execution_count": 38,
     "metadata": {},
     "output_type": "execute_result"
    }
   ],
   "source": [
    "#Calculate mode of the column\n",
    "mode_value = df_cleaned[\"Sector\"].mode().iloc[0]\n",
    "\n",
    "mode_value"
   ]
  },
  {
   "cell_type": "code",
   "execution_count": 39,
   "metadata": {},
   "outputs": [],
   "source": [
    "#Replace the missing values with the mode:\n",
    "df_cleaned[\"Sector\"].fillna(mode_value, inplace=True)\n"
   ]
  },
  {
   "cell_type": "code",
   "execution_count": 40,
   "metadata": {},
   "outputs": [
    {
     "data": {
      "text/plain": [
       "False"
      ]
     },
     "execution_count": 40,
     "metadata": {},
     "output_type": "execute_result"
    }
   ],
   "source": [
    "#Any missing values?\n",
    "#Let us confirm whether there are any NAN values after changes\n",
    "df_cleaned[\"Sector\"].isna().values.any()"
   ]
  },
  {
   "cell_type": "code",
   "execution_count": 41,
   "metadata": {},
   "outputs": [
    {
     "data": {
      "text/html": [
       "<div>\n",
       "<style scoped>\n",
       "    .dataframe tbody tr th:only-of-type {\n",
       "        vertical-align: middle;\n",
       "    }\n",
       "\n",
       "    .dataframe tbody tr th {\n",
       "        vertical-align: top;\n",
       "    }\n",
       "\n",
       "    .dataframe thead th {\n",
       "        text-align: right;\n",
       "    }\n",
       "</style>\n",
       "<table border=\"1\" class=\"dataframe\">\n",
       "  <thead>\n",
       "    <tr style=\"text-align: right;\">\n",
       "      <th></th>\n",
       "      <th>Company_Brand</th>\n",
       "      <th>Founded</th>\n",
       "      <th>HeadQuarter</th>\n",
       "      <th>Sector</th>\n",
       "      <th>What_it_does</th>\n",
       "      <th>Founders</th>\n",
       "      <th>Investor</th>\n",
       "      <th>Amount</th>\n",
       "      <th>Stage</th>\n",
       "    </tr>\n",
       "  </thead>\n",
       "  <tbody>\n",
       "    <tr>\n",
       "      <th>39</th>\n",
       "      <td>Lil Goodness and sCool meal</td>\n",
       "      <td>2015.0</td>\n",
       "      <td>Bangalore</td>\n",
       "      <td>Food &amp; Nutrition</td>\n",
       "      <td>It empowers moms to provide the best of foods ...</td>\n",
       "      <td>NaN</td>\n",
       "      <td>Sajan Pillai, Muthu Krishnan,</td>\n",
       "      <td>400000.0</td>\n",
       "      <td>NaN</td>\n",
       "    </tr>\n",
       "    <tr>\n",
       "      <th>41</th>\n",
       "      <td>VMate</td>\n",
       "      <td>2015.0</td>\n",
       "      <td>Bangalore</td>\n",
       "      <td>Edtech</td>\n",
       "      <td>A short video platform</td>\n",
       "      <td>NaN</td>\n",
       "      <td>Alibaba</td>\n",
       "      <td>100000000.0</td>\n",
       "      <td>NaN</td>\n",
       "    </tr>\n",
       "    <tr>\n",
       "      <th>71</th>\n",
       "      <td>Smart Institute</td>\n",
       "      <td>2015.0</td>\n",
       "      <td>Surat</td>\n",
       "      <td>Edtech</td>\n",
       "      <td>A platform to learn online</td>\n",
       "      <td>NaN</td>\n",
       "      <td>HNI investors</td>\n",
       "      <td>1500000.0</td>\n",
       "      <td>NaN</td>\n",
       "    </tr>\n",
       "  </tbody>\n",
       "</table>\n",
       "</div>"
      ],
      "text/plain": [
       "                   Company_Brand  Founded HeadQuarter            Sector  \\\n",
       "39  Lil Goodness and sCool meal   2015.0   Bangalore  Food & Nutrition   \n",
       "41                         VMate   2015.0   Bangalore            Edtech   \n",
       "71               Smart Institute   2015.0       Surat            Edtech   \n",
       "\n",
       "                                         What_it_does Founders  \\\n",
       "39  It empowers moms to provide the best of foods ...      NaN   \n",
       "41                             A short video platform      NaN   \n",
       "71                         A platform to learn online      NaN   \n",
       "\n",
       "                         Investor       Amount Stage  \n",
       "39  Sajan Pillai, Muthu Krishnan,     400000.0   NaN  \n",
       "41                        Alibaba  100000000.0   NaN  \n",
       "71                  HNI investors    1500000.0   NaN  "
      ]
     },
     "execution_count": 41,
     "metadata": {},
     "output_type": "execute_result"
    }
   ],
   "source": [
    "#Let us clean 'Founders' column\n",
    "\n",
    "# View NaN values in 'Founders'\n",
    "nan_val = df_cleaned[df_cleaned[\"Founders\"].isna()]\n",
    "nan_val"
   ]
  },
  {
   "cell_type": "code",
   "execution_count": 42,
   "metadata": {},
   "outputs": [
    {
     "data": {
      "text/plain": [
       "False"
      ]
     },
     "execution_count": 42,
     "metadata": {},
     "output_type": "execute_result"
    }
   ],
   "source": [
    "# Replace missing values with \"Unknown\" in the 'Founders' column\n",
    "df_cleaned['Founders'] = df_cleaned['Founders'].fillna(\"Unknown\")\n",
    "\n",
    "#Any missing values?\n",
    "#Let us confirm whether there are any NAN values after changes\n",
    "df_cleaned[\"Founders\"].isna().values.any()"
   ]
  },
  {
   "cell_type": "code",
   "execution_count": 43,
   "metadata": {},
   "outputs": [
    {
     "data": {
      "text/plain": [
       "array([nan, 'Series C', 'Fresh funding', 'Series D', 'Pre series A',\n",
       "       'Series A', 'Series G', 'Series B', 'Post series A',\n",
       "       'Seed funding', 'Seed fund', 'Series E', 'Series F', 'Series B+',\n",
       "       'Seed round', 'Pre-series A'], dtype=object)"
      ]
     },
     "execution_count": 43,
     "metadata": {},
     "output_type": "execute_result"
    }
   ],
   "source": [
    "#Let us clean 'stage' colum\n",
    "# Will finish cleaning up this column tomorrow\n",
    "df_cleaned['Stage'].unique()"
   ]
  }
 ],
 "metadata": {
  "kernelspec": {
   "display_name": "base",
   "language": "python",
   "name": "python3"
  },
  "language_info": {
   "codemirror_mode": {
    "name": "ipython",
    "version": 3
   },
   "file_extension": ".py",
   "mimetype": "text/x-python",
   "name": "python",
   "nbconvert_exporter": "python",
   "pygments_lexer": "ipython3",
   "version": "3.10.11"
  },
  "orig_nbformat": 4
 },
 "nbformat": 4,
 "nbformat_minor": 2
}
